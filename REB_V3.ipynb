{
 "cells": [
  {
   "cell_type": "code",
   "execution_count": 6,
   "metadata": {},
   "outputs": [
    {
     "ename": "SyntaxError",
     "evalue": "invalid syntax. Perhaps you forgot a comma? (853432424.py, line 30)",
     "output_type": "error",
     "traceback": [
      "\u001b[1;36m  Cell \u001b[1;32mIn[6], line 30\u001b[1;36m\u001b[0m\n\u001b[1;33m    add_text(\"Bottom Reinforcement \"n_s\"@mm c-c \", APoint(span / 2, c_c / 2), 20)\u001b[0m\n\u001b[1;37m             ^\u001b[0m\n\u001b[1;31mSyntaxError\u001b[0m\u001b[1;31m:\u001b[0m invalid syntax. Perhaps you forgot a comma?\n"
     ]
    }
   ],
   "source": [
    "from pyautocad import Autocad, APoint\n",
    "\n",
    "acad = Autocad(create_if_not_exists=True)\n",
    "\n",
    "def draw_top_bot_bar_fibre(c_c, d_b, span):\n",
    "    p11 = APoint(0, 0)\n",
    "    p12 = APoint(0, d_b)\n",
    "    p21 = APoint(span, 0)\n",
    "    p22 = APoint(span, d_b)\n",
    "\n",
    "    # Bottom and top fibre lines\n",
    "    acad.model.addline(p11, p21)\n",
    "    acad.model.addline(p12, p22)\n",
    "\n",
    "    p11_off = APoint(p11.x, p11.y + c_c)\n",
    "    p21_off = APoint(p21.x, p21.y + c_c)\n",
    "    p12_off = APoint(p12.x, p12.y - (d_b / 10))\n",
    "    p22_off = APoint(p22.x, p22.y - (d_b / 10))\n",
    "\n",
    "    # Top and bottom reinforcements\n",
    "    acad.model.addline(p11_off, p21_off)\n",
    "    acad.model.addline(p12_off, p22_off)\n",
    "\n",
    "    # Adding dimension lines\n",
    "    add_dim_lines(p11, p21, APoint(span / 2, -20), f\"Span: {span}mm\")\n",
    "    add_dim_lines(p11, p11_off, APoint(-20, c_c / 2), f\"Clear Cover: {c_c}mm\")\n",
    "    add_dim_lines(p12, p22, APoint(span + 20, d_b / 2))\n",
    "\n",
    "    # Adding text\n",
    "    add_text(\"Bottom Reinforcement %s@mm c-c \", APoint(span / 2, c_c / 2), 20)\n",
    "    add_text(\"Top Reinforcement\", APoint(span / 2, d_b - (d_b / 20)), 20)\n",
    "\n",
    "def draw_stirrups(d_b, span, n_s):\n",
    "    p1_s = APoint((span / 3), 0)\n",
    "    p2_s = APoint((span / 3), d_b)\n",
    "\n",
    "    # Adding text\n",
    "    add_text(\"Stirrups\", APoint(span / 3 + 20, d_b / 2), 20)\n",
    "\n",
    "    acad.model.addline(p1_s, p2_s)\n",
    "\n",
    "    # Loop for the subsequent stirrups\n",
    "    for i in range(1, n_s):\n",
    "        stirrup_start = APoint(p1_s.x + (i * (span / 100)), p1_s.y)\n",
    "        stirrup_end = APoint(p1_s.x + (i * (span / 100)), p1_s.y + d_b)\n",
    "        acad.model.AddLine(stirrup_start, stirrup_end)\n",
    "    print(f\"Beam and stirrups drawn successfully!\")\n",
    "\n",
    "def add_dim_lines(pt1, pt2, text_point, text_override=None):\n",
    "    \"\"\"Adds a dimension line to the AutoCAD drawing.\"\"\"\n",
    "    dim = acad.model.AddDimAligned(pt1, pt2, text_point)\n",
    "    if text_override:\n",
    "        dim.TextOverride = text_override\n",
    "    dim.Update()\n",
    "\n",
    "def add_text(text, point, height):\n",
    "    \"\"\"Adds text to the AutoCAD drawing.\"\"\"\n",
    "    acad.model.AddText(text, point, height)\n",
    "\n",
    "if __name__ == \"__main__\":\n",
    "    # User Input\n",
    "    c_c = float(input(\"Enter the Clear-Cover=\"))\n",
    "    d_b = float(input(\"Enter the Depth of beam=\"))\n",
    "    n_s = int(input(\"Enter the number of stirrups=\"))\n",
    "    span = float(input(\"Enter the span=\"))\n",
    "    \n",
    "    draw_top_bot_bar_fibre(c_c, d_b, span)\n",
    "    draw_stirrups(d_b, span, n_s)\n"
   ]
  },
  {
   "cell_type": "code",
   "execution_count": null,
   "metadata": {},
   "outputs": [],
   "source": []
  }
 ],
 "metadata": {
  "kernelspec": {
   "display_name": "Python 3",
   "language": "python",
   "name": "python3"
  },
  "language_info": {
   "name": "python",
   "version": "3.11.6"
  }
 },
 "nbformat": 4,
 "nbformat_minor": 2
}
