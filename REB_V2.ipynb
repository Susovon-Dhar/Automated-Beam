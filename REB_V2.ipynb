{
 "cells": [
  {
   "cell_type": "code",
   "execution_count": 14,
   "metadata": {},
   "outputs": [
    {
     "name": "stdout",
     "output_type": "stream",
     "text": [
      "Beam and stirrups drawn successfully!\n"
     ]
    }
   ],
   "source": [
    "from pyautocad import Autocad, APoint\n",
    "\n",
    "acad=Autocad(create_if_not_exists=True)\n",
    "\n",
    "def draw_top_bot_bar_fibre():\n",
    "    global c_c, d_b, n_s, span, s_p\n",
    "    #User Input\n",
    "    c_c=float(input(\"Enetr the Clear-Cover=\"))\n",
    "    d_b=float(input(\"Enetr the Depth of beam=\"))\n",
    "    n_s=int(input(\"Enetr the number of stirrups=\"))\n",
    "    span=float(input(\"Enetr the span=\"))\n",
    "    s_p=float(input(\"Enter Spacing=\"))\n",
    "    \n",
    "    #points of the top and bottom fibres\n",
    "    p11=APoint(0,0)\n",
    "    p12=APoint(0,d_b)\n",
    "    p21=APoint(span,0)\n",
    "    p22=APoint(span,d_b)\n",
    "    \n",
    "    #bottom and top fibre lines\n",
    "    bot_line=acad.model.addline(p11,p21)\n",
    "    top_line=acad.model.addline(p12,p22)\n",
    "    \n",
    "    p11_off=APoint(p11.x,p11.y+c_c)\n",
    "    p21_off=APoint(p21.x,p21.y+c_c)\n",
    "    p12_off=APoint(p12.x,p12.y-(d_b/10))\n",
    "    p22_off=APoint(p22.x,p22.y-(d_b/10))\n",
    "      #top and bottom reinforcements\n",
    "    bot_line_ref=acad.model.addline(p11_off,p21_off)\n",
    "    top_line_ref=acad.model.addline(p12_off,p22_off)\n",
    "def draw_stirrups():\n",
    "     #points of the first stirrup\n",
    "    p1_s=APoint((span/3),0)\n",
    "    p2_s=APoint((span/3),d_b) \n",
    "    \n",
    "    stirrup_line=acad.model.addline(p1_s,p2_s)\n",
    "\n",
    "    # Loop for the subsequent stirrups\n",
    "    for i in range(1, n_s):\n",
    "        stirrup_start = APoint(p1_s.x + (i * (span/100)), p1_s.y)\n",
    "        stirrup_end = APoint(p1_s.x + (i* (span/100)), p1_s.y + d_b)\n",
    "        acad.model.AddLine(stirrup_start, stirrup_end)\n",
    "    print(f\"Beam and stirrups drawn successfully!\")\n",
    "if __name__==\"__main__\":\n",
    "    draw_top_bot_bar_fibre()\n",
    "    draw_stirrups()"
   ]
  },
  {
   "cell_type": "code",
   "execution_count": null,
   "metadata": {},
   "outputs": [],
   "source": []
  }
 ],
 "metadata": {
  "kernelspec": {
   "display_name": "Python 3",
   "language": "python",
   "name": "python3"
  },
  "language_info": {
   "codemirror_mode": {
    "name": "ipython",
    "version": 3
   },
   "file_extension": ".py",
   "mimetype": "text/x-python",
   "name": "python",
   "nbconvert_exporter": "python",
   "pygments_lexer": "ipython3",
   "version": "3.11.6"
  }
 },
 "nbformat": 4,
 "nbformat_minor": 2
}
