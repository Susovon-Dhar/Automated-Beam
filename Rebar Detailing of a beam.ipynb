{
 "cells": [
  {
   "cell_type": "code",
   "execution_count": null,
   "id": "6f0ce3e3-9d9f-4324-9f06-87d8d404d4ac",
   "metadata": {},
   "outputs": [],
   "source": [
    "from pyautocad import autocad\n",
    "    def main():\n",
    "        acad=Autocad(create_if_not_exixsts=True)"
   ]
  },
  {
   "cell_type": "markdown",
   "id": "f31fc556-f664-4eac-9c9a-bd1a9a12f0ab",
   "metadata": {},
   "source": [
    "# For Beam Outline\n",
    "## "
   ]
  },
  {
   "cell_type": "code",
   "execution_count": null,
   "id": "4a67d03d-f5f6-453f-b67f-456df34b8b47",
   "metadata": {},
   "outputs": [],
   "source": []
  }
 ],
 "metadata": {
  "kernelspec": {
   "display_name": "Python 3 (ipykernel)",
   "language": "python",
   "name": "python3"
  },
  "language_info": {
   "codemirror_mode": {
    "name": "ipython",
    "version": 3
   },
   "file_extension": ".py",
   "mimetype": "text/x-python",
   "name": "python",
   "nbconvert_exporter": "python",
   "pygments_lexer": "ipython3",
   "version": "3.8.17"
  }
 },
 "nbformat": 4,
 "nbformat_minor": 5
}
